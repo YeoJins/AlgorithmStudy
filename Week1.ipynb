{
 "cells": [
  {
   "cell_type": "markdown",
   "id": "a1e47af5",
   "metadata": {},
   "source": [
    "## Week1 - 1,2,3,4 Level"
   ]
  },
  {
   "cell_type": "markdown",
   "id": "889160f8",
   "metadata": {},
   "source": [
    "### Level 1\n",
    "https://www.acmicpc.net/problem/3003  \n",
    "**3003번** - 킹, 퀸, 룩, 비숍, 나이트, 폰 "
   ]
  },
  {
   "cell_type": "code",
   "execution_count": 9,
   "id": "7444f066",
   "metadata": {},
   "outputs": [
    {
     "name": "stdout",
     "output_type": "stream",
     "text": [
      "2 1 2 1 2 1\n",
      "-1 0 0 1 0 7\n"
     ]
    }
   ],
   "source": [
    "a,b,c,d,e,f = map(int,input().split())\n",
    "print(1-a,1-b,2-c,2-d,2-e,8-f)"
   ]
  },
  {
   "cell_type": "markdown",
   "id": "7758beab",
   "metadata": {},
   "source": [
    "https://www.acmicpc.net/problem/2588  \n",
    "**2588번** - 곱셈\n",
    " "
   ]
  },
  {
   "cell_type": "code",
   "execution_count": 22,
   "id": "70fdcc34",
   "metadata": {},
   "outputs": [
    {
     "name": "stdout",
     "output_type": "stream",
     "text": [
      "472\n",
      "385\n",
      "2360\n",
      "3776\n",
      "1416\n",
      "181720\n"
     ]
    }
   ],
   "source": [
    "a = int(input('')) #첫번째 수(세자리)\n",
    "b = int(input('')) #두번째 수(세자리)\n",
    "print(a*(b%10)) \n",
    "print(a*((b//10)%10))\n",
    "print(a*(b//100))\n",
    "print(a*b)"
   ]
  },
  {
   "cell_type": "markdown",
   "id": "e97a61de",
   "metadata": {},
   "source": [
    "### Level 2\n",
    "https://www.acmicpc.net/problem/14681  \n",
    "**14681번** - 사분면 고르기"
   ]
  },
  {
   "cell_type": "code",
   "execution_count": 28,
   "id": "a6c3feba",
   "metadata": {},
   "outputs": [
    {
     "name": "stdout",
     "output_type": "stream",
     "text": [
      "9\n",
      "-13\n",
      "4\n"
     ]
    }
   ],
   "source": [
    "x = int(input(''))\n",
    "y = int(input(''))\n",
    "\n",
    "if (x>0) and (y > 0):\n",
    "    print(1)\n",
    "elif (x<0) and (y>0):\n",
    "    print(2)\n",
    "elif (x<0) and (y<0):\n",
    "    print(3)\n",
    "elif (x>0) and (y<0):\n",
    "    print(4)"
   ]
  },
  {
   "cell_type": "markdown",
   "id": "8e67c746",
   "metadata": {},
   "source": [
    "https://www.acmicpc.net/problem/2884  \n",
    "**2884번** - 알람 시계"
   ]
  },
  {
   "cell_type": "code",
   "execution_count": 54,
   "id": "0ff12f48",
   "metadata": {},
   "outputs": [
    {
     "name": "stdout",
     "output_type": "stream",
     "text": [
      "0 30\n",
      "23 45\n"
     ]
    }
   ],
   "source": [
    "h,m = map(int,input().split())\n",
    "if h == 0 and m < 45:\n",
    "    h = h+24\n",
    "al = (h * 60 + m) - 45\n",
    "print(al//60,al%60)"
   ]
  },
  {
   "cell_type": "markdown",
   "id": "59ad6bd8",
   "metadata": {},
   "source": [
    "### Level 3\n",
    "https://www.acmicpc.net/problem/10951   \n",
    "**10951번** - A+B - 4"
   ]
  },
  {
   "cell_type": "code",
   "execution_count": 56,
   "id": "6f7dfb39",
   "metadata": {},
   "outputs": [
    {
     "name": "stdout",
     "output_type": "stream",
     "text": [
      "1 1\n",
      "2\n",
      "2 5\n",
      "7\n",
      "3 8\n",
      "11\n",
      "\n"
     ]
    },
    {
     "ename": "ValueError",
     "evalue": "not enough values to unpack (expected 2, got 0)",
     "output_type": "error",
     "traceback": [
      "\u001b[0;31m---------------------------------------------------------------------------\u001b[0m",
      "\u001b[0;31mValueError\u001b[0m                                Traceback (most recent call last)",
      "Input \u001b[0;32mIn [56]\u001b[0m, in \u001b[0;36m<cell line: 2>\u001b[0;34m()\u001b[0m\n\u001b[1;32m      1\u001b[0m \u001b[38;5;28;01mwhile\u001b[39;00m \u001b[38;5;28;01mTrue\u001b[39;00m:\n\u001b[1;32m      2\u001b[0m     \u001b[38;5;28;01mtry\u001b[39;00m:\n\u001b[0;32m----> 3\u001b[0m         a,b \u001b[38;5;241m=\u001b[39m \u001b[38;5;28mmap\u001b[39m(\u001b[38;5;28mint\u001b[39m,\u001b[38;5;28minput\u001b[39m()\u001b[38;5;241m.\u001b[39msplit())\n\u001b[1;32m      4\u001b[0m         \u001b[38;5;28mprint\u001b[39m(a\u001b[38;5;241m+\u001b[39mb)\n\u001b[1;32m      5\u001b[0m     \u001b[38;5;28;01mexcept\u001b[39;00m \u001b[38;5;167;01mEOFError\u001b[39;00m:\n",
      "\u001b[0;31mValueError\u001b[0m: not enough values to unpack (expected 2, got 0)"
     ]
    }
   ],
   "source": [
    "while True:\n",
    "    try:\n",
    "        a,b = map(int,input().split())\n",
    "        print(a+b)\n",
    "    except EOFError:\n",
    "        break;"
   ]
  },
  {
   "cell_type": "markdown",
   "id": "a450a63c",
   "metadata": {},
   "source": [
    "https://www.acmicpc.net/problem/1110  \n",
    "**1110번** - 더하기 사이클 "
   ]
  },
  {
   "cell_type": "code",
   "execution_count": 73,
   "id": "6294f87d",
   "metadata": {},
   "outputs": [
    {
     "name": "stdout",
     "output_type": "stream",
     "text": [
      "1\n",
      "60\n"
     ]
    }
   ],
   "source": [
    "n = int(input(''))#원래 수\n",
    "num = n\n",
    "i = 0 #카운트\n",
    "\n",
    "while True:\n",
    "    a = num // 10\n",
    "    b = num % 10\n",
    "    c = (a + b) % 10\n",
    "    num = (b*10) + c\n",
    "    \n",
    "    i = i + 1\n",
    "    if (num == n):\n",
    "        break\n",
    "print(i)\n",
    "    "
   ]
  },
  {
   "cell_type": "markdown",
   "id": "ef35776f",
   "metadata": {},
   "source": [
    "### Level 4\n",
    "https://www.acmicpc.net/problem/8958  \n",
    "**8958번** - OX퀴즈"
   ]
  },
  {
   "cell_type": "code",
   "execution_count": 85,
   "id": "c27c68dd",
   "metadata": {},
   "outputs": [
    {
     "name": "stdout",
     "output_type": "stream",
     "text": [
      "5\n",
      "OOXXOXXOOO\n",
      "10\n",
      "OOXXOOXXOO\n",
      "9\n",
      "OXOXOXOXOXOXOX\n",
      "7\n",
      "OOOOOOOOOO\n",
      "55\n",
      " 예제 출력 1  10 9 7 55 30\n",
      "0\n"
     ]
    }
   ],
   "source": [
    "k = int(input())\n",
    "\n",
    "for i in range (k):\n",
    "    quiz = list(input())\n",
    "    score = 0\n",
    "    sum_score = 0\n",
    "    for ox in quiz:\n",
    "        if ox == 'O':\n",
    "            score = score +1\n",
    "            sum_score = score + sum_score\n",
    "        else:\n",
    "            score = 0\n",
    "    print(sum_score)\n",
    "   "
   ]
  },
  {
   "cell_type": "markdown",
   "id": "dd0dc332",
   "metadata": {},
   "source": [
    "https://www.acmicpc.net/problem/4344  \n",
    "**4344번** - 평균은 넘겠지   "
   ]
  },
  {
   "cell_type": "code",
   "execution_count": 88,
   "id": "c05ec3d6",
   "metadata": {},
   "outputs": [
    {
     "name": "stdout",
     "output_type": "stream",
     "text": [
      "5\n",
      "5 50 50 70 80 100\n",
      "40.000%\n",
      "7 100 95 90 80 70 60 50\n",
      "57.143%\n",
      "3 70 80 90\n",
      "33.333%\n",
      "3 70 90 81\n",
      "66.667%\n",
      "9 100 99 98 97 96 95 94 93 91\n",
      "55.556%\n"
     ]
    }
   ],
   "source": [
    "c = int(input())\n",
    "for _ in range(c):\n",
    "    nums = list(map(int,input().split()))\n",
    "    avg = sum(nums[1:])/nums[0]\n",
    "    cnt = 0\n",
    "    for score in nums[1:]:\n",
    "        if score > avg:\n",
    "            cnt = cnt + 1 \n",
    "    rate = cnt / nums[0] * 100\n",
    "    print(f'{rate:.3f}%')"
   ]
  },
  {
   "cell_type": "code",
   "execution_count": null,
   "id": "027df539",
   "metadata": {},
   "outputs": [],
   "source": []
  }
 ],
 "metadata": {
  "kernelspec": {
   "display_name": "Python 3 (ipykernel)",
   "language": "python",
   "name": "python3"
  },
  "language_info": {
   "codemirror_mode": {
    "name": "ipython",
    "version": 3
   },
   "file_extension": ".py",
   "mimetype": "text/x-python",
   "name": "python",
   "nbconvert_exporter": "python",
   "pygments_lexer": "ipython3",
   "version": "3.9.12"
  }
 },
 "nbformat": 4,
 "nbformat_minor": 5
}
